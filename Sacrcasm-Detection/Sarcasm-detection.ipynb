{
  "nbformat": 4,
  "nbformat_minor": 0,
  "metadata": {
    "accelerator": "GPU",
    "colab": {
      "name": "NLP Course - Week 3 Exercise Answer.ipynb",
      "provenance": [],
      "toc_visible": true
    },
    "kernelspec": {
      "display_name": "Python 3",
      "language": "python",
      "name": "python3"
    },
    "language_info": {
      "codemirror_mode": {
        "name": "ipython",
        "version": 3
      },
      "file_extension": ".py",
      "mimetype": "text/x-python",
      "name": "python",
      "nbconvert_exporter": "python",
      "pygments_lexer": "ipython3",
      "version": "3.7.6"
    }
  },
  "cells": [
    {
      "cell_type": "code",
      "metadata": {
        "colab_type": "code",
        "id": "zX4Kg8DUTKWO",
        "colab": {}
      },
      "source": [
        "#@title Licensed under the Apache License, Version 2.0 (the \"License\");\n",
        "# you may not use this file except in compliance with the License.\n",
        "# You may obtain a copy of the License at\n",
        "#\n",
        "# https://www.apache.org/licenses/LICENSE-2.0\n",
        "#\n",
        "# Unless required by applicable law or agreed to in writing, software\n",
        "# distributed under the License is distributed on an \"AS IS\" BASIS,\n",
        "# WITHOUT WARRANTIES OR CONDITIONS OF ANY KIND, either express or implied.\n",
        "# See the License for the specific language governing permissions and\n",
        "# limitations under the License."
      ],
      "execution_count": 1,
      "outputs": []
    },
    {
      "cell_type": "markdown",
      "metadata": {
        "id": "aFfS06jf2QGc",
        "colab_type": "text"
      },
      "source": [
        "<a href=\"https://colab.research.google.com/github/lmoroney/dlaicourse/blob/master/TensorFlow%20In%20Practice/Course%203%20-%20NLP/NLP%20Course%20-%20Week%203%20Exercise%20Answer.ipynb\" target=\"_parent\"><img src=\"https://colab.research.google.com/assets/colab-badge.svg\" alt=\"Open In Colab\"/></a>"
      ]
    },
    {
      "cell_type": "code",
      "metadata": {
        "colab_type": "code",
        "id": "hmA6EzkQJ5jt",
        "colab": {}
      },
      "source": [
        "import json\n",
        "import tensorflow as tf\n",
        "import csv\n",
        "import random\n",
        "import numpy as np\n",
        "\n",
        "from tensorflow.keras.preprocessing.text import Tokenizer\n",
        "from tensorflow.keras.preprocessing.sequence import pad_sequences\n",
        "from tensorflow.keras.utils import to_categorical\n",
        "from tensorflow.keras import regularizers\n",
        "\n",
        "\n",
        "embedding_dim = 100\n",
        "max_length = 16\n",
        "trunc_type='post'\n",
        "padding_type='post'\n",
        "oov_tok = \"<OOV>\"\n",
        "training_size=160000\n",
        "test_portion=.1\n",
        "\n",
        "corpus = []\n"
      ],
      "execution_count": 2,
      "outputs": []
    },
    {
      "cell_type": "code",
      "metadata": {
        "colab_type": "code",
        "id": "bM0l_dORKqE0",
        "colab": {
          "base_uri": "https://localhost:8080/",
          "height": 224
        },
        "outputId": "1c315b24-ae59-4394-f850-7fea11826bfe"
      },
      "source": [
        "# Note that I cleaned the Stanford dataset to remove LATIN1 encoding to make it easier for Python CSV reader\n",
        "# You can do that yourself with:\n",
        "# iconv -f LATIN1 -t UTF8 training.1600000.processed.noemoticon.csv -o training_cleaned.csv\n",
        "# I then hosted it on my site to make it easier to use in this notebook\n",
        "\n",
        "!wget --no-check-certificate \\\n",
        "    https://storage.googleapis.com/laurencemoroney-blog.appspot.com/training_cleaned.csv \\\n",
        "    -O /tmp/training_cleaned.csv\n",
        "\n",
        "num_sentences = 0\n",
        "\n",
        "with open(\"/tmp/training_cleaned.csv\") as csvfile:\n",
        "    reader = csv.reader(csvfile, delimiter=',')\n",
        "    for row in reader:\n",
        "        list_item=[]\n",
        "        list_item.append(row[5])\n",
        "        this_label=row[0]\n",
        "        if this_label=='0':\n",
        "            list_item.append(0)\n",
        "        else:\n",
        "            list_item.append(1)\n",
        "        num_sentences = num_sentences + 1\n",
        "        corpus.append(list_item)\n"
      ],
      "execution_count": 3,
      "outputs": [
        {
          "output_type": "stream",
          "text": [
            "--2020-08-13 18:11:33--  https://storage.googleapis.com/laurencemoroney-blog.appspot.com/training_cleaned.csv\n",
            "Resolving storage.googleapis.com (storage.googleapis.com)... 74.125.195.128, 74.125.197.128, 74.125.142.128, ...\n",
            "Connecting to storage.googleapis.com (storage.googleapis.com)|74.125.195.128|:443... connected.\n",
            "HTTP request sent, awaiting response... 200 OK\n",
            "Length: 238942690 (228M) [application/octet-stream]\n",
            "Saving to: ‘/tmp/training_cleaned.csv’\n",
            "\n",
            "/tmp/training_clean 100%[===================>] 227.87M   122MB/s    in 1.9s    \n",
            "\n",
            "2020-08-13 18:11:35 (122 MB/s) - ‘/tmp/training_cleaned.csv’ saved [238942690/238942690]\n",
            "\n"
          ],
          "name": "stdout"
        }
      ]
    },
    {
      "cell_type": "code",
      "metadata": {
        "colab_type": "code",
        "id": "3kxblBUjEUX-",
        "colab": {
          "base_uri": "https://localhost:8080/",
          "height": 88
        },
        "outputId": "836d6f18-a599-4215-9627-45f5c37a1c4c"
      },
      "source": [
        "print(num_sentences)\n",
        "print(len(corpus))\n",
        "print(corpus[1])\n",
        "\n",
        "# Expected Output:\n",
        "# 1600000\n",
        "# 1600000\n",
        "# [\"is upset that he can't update his Facebook by texting it... and might cry as a result  School today also. Blah!\", 0]"
      ],
      "execution_count": 4,
      "outputs": [
        {
          "output_type": "stream",
          "text": [
            "1600000\n",
            "1600000\n",
            "[\"is upset that he can't update his Facebook by texting it... and might cry as a result  School today also. Blah!\", 0]\n"
          ],
          "name": "stdout"
        }
      ]
    },
    {
      "cell_type": "code",
      "metadata": {
        "colab_type": "code",
        "id": "ohOGz24lsNAD",
        "colab": {}
      },
      "source": [
        "sentences=[]\n",
        "labels=[]\n",
        "random.shuffle(corpus)\n",
        "for x in range(training_size):\n",
        "    sentences.append(corpus[x][0])\n",
        "    labels.append(corpus[x][1])\n",
        "\n",
        "\n",
        "tokenizer = Tokenizer()\n",
        "tokenizer.fit_on_texts(sentences)\n",
        "\n",
        "word_index = tokenizer.word_index\n",
        "vocab_size=len(word_index)\n",
        "\n",
        "sequences = tokenizer.texts_to_sequences(sentences)\n",
        "padded = pad_sequences(sequences, maxlen=max_length, padding=padding_type, truncating=trunc_type)\n",
        "\n",
        "split = int(test_portion * training_size)\n",
        "\n",
        "test_sequences = padded[0:split]\n",
        "training_sequences = padded[split:training_size]\n",
        "test_labels = labels[0:split]\n",
        "training_labels = labels[split:training_size]"
      ],
      "execution_count": 5,
      "outputs": []
    },
    {
      "cell_type": "code",
      "metadata": {
        "colab_type": "code",
        "id": "gIrtRem1En3N",
        "colab": {
          "base_uri": "https://localhost:8080/",
          "height": 51
        },
        "outputId": "23d36ec7-8f07-4b90-994e-9b08a9d4a3d1"
      },
      "source": [
        "print(vocab_size)\n",
        "print(word_index['i'])\n",
        "# Expected Output\n",
        "# 138858\n",
        "# 1"
      ],
      "execution_count": 6,
      "outputs": [
        {
          "output_type": "stream",
          "text": [
            "138403\n",
            "1\n"
          ],
          "name": "stdout"
        }
      ]
    },
    {
      "cell_type": "code",
      "metadata": {
        "colab_type": "code",
        "id": "C1zdgJkusRh0",
        "colab": {
          "base_uri": "https://localhost:8080/",
          "height": 224
        },
        "outputId": "8fd1c454-6c0c-43a2-ab0a-31959e2f6ec2"
      },
      "source": [
        "# Note this is the 100 dimension version of GloVe from Stanford\n",
        "# I unzipped and hosted it on my site to make this notebook easier\n",
        "!wget --no-check-certificate \\\n",
        "    https://storage.googleapis.com/laurencemoroney-blog.appspot.com/glove.6B.100d.txt \\\n",
        "    -O /tmp/glove.6B.100d.txt\n",
        "embeddings_index = {};\n",
        "with open('/tmp/glove.6B.100d.txt') as f:\n",
        "    for line in f:\n",
        "        values = line.split();\n",
        "        word = values[0];\n",
        "        coefs = np.asarray(values[1:], dtype='float32');\n",
        "        embeddings_index[word] = coefs;\n",
        "\n",
        "embeddings_matrix = np.zeros((vocab_size+1, embedding_dim));\n",
        "for word, i in word_index.items():\n",
        "    embedding_vector = embeddings_index.get(word);\n",
        "    if embedding_vector is not None:\n",
        "        embeddings_matrix[i] = embedding_vector;"
      ],
      "execution_count": 7,
      "outputs": [
        {
          "output_type": "stream",
          "text": [
            "--2020-08-13 18:11:47--  https://storage.googleapis.com/laurencemoroney-blog.appspot.com/glove.6B.100d.txt\n",
            "Resolving storage.googleapis.com (storage.googleapis.com)... 74.125.197.128, 74.125.142.128, 74.125.195.128, ...\n",
            "Connecting to storage.googleapis.com (storage.googleapis.com)|74.125.197.128|:443... connected.\n",
            "HTTP request sent, awaiting response... 200 OK\n",
            "Length: 347116733 (331M) [text/plain]\n",
            "Saving to: ‘/tmp/glove.6B.100d.txt’\n",
            "\n",
            "/tmp/glove.6B.100d. 100%[===================>] 331.04M   133MB/s    in 2.5s    \n",
            "\n",
            "2020-08-13 18:11:50 (133 MB/s) - ‘/tmp/glove.6B.100d.txt’ saved [347116733/347116733]\n",
            "\n"
          ],
          "name": "stdout"
        }
      ]
    },
    {
      "cell_type": "code",
      "metadata": {
        "colab_type": "code",
        "id": "71NLk_lpFLNt",
        "colab": {
          "base_uri": "https://localhost:8080/",
          "height": 34
        },
        "outputId": "059d52a2-8f10-4149-acb5-87010ec371dc"
      },
      "source": [
        "print(len(embeddings_matrix))\n",
        "# Expected Output\n",
        "# 138859"
      ],
      "execution_count": 8,
      "outputs": [
        {
          "output_type": "stream",
          "text": [
            "138404\n"
          ],
          "name": "stdout"
        }
      ]
    },
    {
      "cell_type": "code",
      "metadata": {
        "colab_type": "code",
        "id": "iKKvbuEBOGFz",
        "colab": {
          "base_uri": "https://localhost:8080/",
          "height": 1000
        },
        "outputId": "7abec4b0-7e93-4cef-adfa-a57a60e73428"
      },
      "source": [
        "model = tf.keras.Sequential([\n",
        "    tf.keras.layers.Embedding(vocab_size+1, embedding_dim, input_length=max_length, weights=[embeddings_matrix], trainable=False),\n",
        "    tf.keras.layers.Dropout(0.2),\n",
        "    tf.keras.layers.Conv1D(64, 5, activation='relu'),\n",
        "    tf.keras.layers.MaxPooling1D(pool_size=4),\n",
        "    tf.keras.layers.LSTM(64),\n",
        "    tf.keras.layers.Dense(1, activation='sigmoid')\n",
        "])\n",
        "model.compile(loss='binary_crossentropy',optimizer='adam',metrics=['accuracy'])\n",
        "model.summary()\n",
        "\n",
        "num_epochs = 50\n",
        "\n",
        "training_padded = np.array(training_sequences)\n",
        "training_labels = np.array(training_labels)\n",
        "testing_padded = np.array(test_sequences)\n",
        "testing_labels = np.array(test_labels)\n",
        "\n",
        "history = model.fit(training_padded, training_labels, epochs=num_epochs, validation_data=(testing_padded, testing_labels), verbose=2)\n",
        "\n",
        "print(\"Training Complete\")"
      ],
      "execution_count": 9,
      "outputs": [
        {
          "output_type": "stream",
          "text": [
            "Model: \"sequential\"\n",
            "_________________________________________________________________\n",
            "Layer (type)                 Output Shape              Param #   \n",
            "=================================================================\n",
            "embedding (Embedding)        (None, 16, 100)           13840400  \n",
            "_________________________________________________________________\n",
            "dropout (Dropout)            (None, 16, 100)           0         \n",
            "_________________________________________________________________\n",
            "conv1d (Conv1D)              (None, 12, 64)            32064     \n",
            "_________________________________________________________________\n",
            "max_pooling1d (MaxPooling1D) (None, 3, 64)             0         \n",
            "_________________________________________________________________\n",
            "lstm (LSTM)                  (None, 64)                33024     \n",
            "_________________________________________________________________\n",
            "dense (Dense)                (None, 1)                 65        \n",
            "=================================================================\n",
            "Total params: 13,905,553\n",
            "Trainable params: 65,153\n",
            "Non-trainable params: 13,840,400\n",
            "_________________________________________________________________\n",
            "Epoch 1/50\n",
            "4500/4500 - 15s - loss: 0.5687 - accuracy: 0.6986 - val_loss: 0.5242 - val_accuracy: 0.7341\n",
            "Epoch 2/50\n",
            "4500/4500 - 14s - loss: 0.5271 - accuracy: 0.7316 - val_loss: 0.5069 - val_accuracy: 0.7491\n",
            "Epoch 3/50\n",
            "4500/4500 - 15s - loss: 0.5107 - accuracy: 0.7441 - val_loss: 0.5042 - val_accuracy: 0.7508\n",
            "Epoch 4/50\n",
            "4500/4500 - 15s - loss: 0.4990 - accuracy: 0.7519 - val_loss: 0.4940 - val_accuracy: 0.7533\n",
            "Epoch 5/50\n",
            "4500/4500 - 14s - loss: 0.4900 - accuracy: 0.7585 - val_loss: 0.4940 - val_accuracy: 0.7569\n",
            "Epoch 6/50\n",
            "4500/4500 - 14s - loss: 0.4831 - accuracy: 0.7628 - val_loss: 0.4920 - val_accuracy: 0.7596\n",
            "Epoch 7/50\n",
            "4500/4500 - 14s - loss: 0.4784 - accuracy: 0.7667 - val_loss: 0.4904 - val_accuracy: 0.7584\n",
            "Epoch 8/50\n",
            "4500/4500 - 14s - loss: 0.4728 - accuracy: 0.7693 - val_loss: 0.4921 - val_accuracy: 0.7542\n",
            "Epoch 9/50\n",
            "4500/4500 - 14s - loss: 0.4687 - accuracy: 0.7721 - val_loss: 0.4876 - val_accuracy: 0.7600\n",
            "Epoch 10/50\n",
            "4500/4500 - 16s - loss: 0.4642 - accuracy: 0.7749 - val_loss: 0.4925 - val_accuracy: 0.7574\n",
            "Epoch 11/50\n",
            "4500/4500 - 14s - loss: 0.4615 - accuracy: 0.7761 - val_loss: 0.4927 - val_accuracy: 0.7603\n",
            "Epoch 12/50\n",
            "4500/4500 - 14s - loss: 0.4580 - accuracy: 0.7790 - val_loss: 0.4887 - val_accuracy: 0.7594\n",
            "Epoch 13/50\n",
            "4500/4500 - 14s - loss: 0.4561 - accuracy: 0.7804 - val_loss: 0.4937 - val_accuracy: 0.7601\n",
            "Epoch 14/50\n",
            "4500/4500 - 15s - loss: 0.4536 - accuracy: 0.7811 - val_loss: 0.4940 - val_accuracy: 0.7597\n",
            "Epoch 15/50\n",
            "4500/4500 - 14s - loss: 0.4502 - accuracy: 0.7832 - val_loss: 0.4996 - val_accuracy: 0.7570\n",
            "Epoch 16/50\n",
            "4500/4500 - 14s - loss: 0.4471 - accuracy: 0.7843 - val_loss: 0.5037 - val_accuracy: 0.7542\n",
            "Epoch 17/50\n",
            "4500/4500 - 14s - loss: 0.4473 - accuracy: 0.7847 - val_loss: 0.4983 - val_accuracy: 0.7583\n",
            "Epoch 18/50\n",
            "4500/4500 - 14s - loss: 0.4477 - accuracy: 0.7845 - val_loss: 0.4968 - val_accuracy: 0.7582\n",
            "Epoch 19/50\n",
            "4500/4500 - 15s - loss: 0.4444 - accuracy: 0.7865 - val_loss: 0.4954 - val_accuracy: 0.7566\n",
            "Epoch 20/50\n",
            "4500/4500 - 14s - loss: 0.4422 - accuracy: 0.7884 - val_loss: 0.5023 - val_accuracy: 0.7542\n",
            "Epoch 21/50\n",
            "4500/4500 - 15s - loss: 0.4418 - accuracy: 0.7876 - val_loss: 0.5017 - val_accuracy: 0.7601\n",
            "Epoch 22/50\n",
            "4500/4500 - 15s - loss: 0.4410 - accuracy: 0.7879 - val_loss: 0.5004 - val_accuracy: 0.7531\n",
            "Epoch 23/50\n",
            "4500/4500 - 15s - loss: 0.4400 - accuracy: 0.7888 - val_loss: 0.4956 - val_accuracy: 0.7596\n",
            "Epoch 24/50\n",
            "4500/4500 - 14s - loss: 0.4389 - accuracy: 0.7901 - val_loss: 0.5053 - val_accuracy: 0.7605\n",
            "Epoch 25/50\n",
            "4500/4500 - 15s - loss: 0.4390 - accuracy: 0.7891 - val_loss: 0.5047 - val_accuracy: 0.7559\n",
            "Epoch 26/50\n",
            "4500/4500 - 14s - loss: 0.4373 - accuracy: 0.7909 - val_loss: 0.4998 - val_accuracy: 0.7571\n",
            "Epoch 27/50\n",
            "4500/4500 - 14s - loss: 0.4366 - accuracy: 0.7901 - val_loss: 0.5034 - val_accuracy: 0.7579\n",
            "Epoch 28/50\n",
            "4500/4500 - 15s - loss: 0.4344 - accuracy: 0.7925 - val_loss: 0.5091 - val_accuracy: 0.7549\n",
            "Epoch 29/50\n",
            "4500/4500 - 14s - loss: 0.4362 - accuracy: 0.7926 - val_loss: 0.5026 - val_accuracy: 0.7609\n",
            "Epoch 30/50\n",
            "4500/4500 - 15s - loss: 0.4347 - accuracy: 0.7916 - val_loss: 0.5077 - val_accuracy: 0.7549\n",
            "Epoch 31/50\n",
            "4500/4500 - 15s - loss: 0.4329 - accuracy: 0.7926 - val_loss: 0.5084 - val_accuracy: 0.7552\n",
            "Epoch 32/50\n",
            "4500/4500 - 15s - loss: 0.4327 - accuracy: 0.7938 - val_loss: 0.5053 - val_accuracy: 0.7540\n",
            "Epoch 33/50\n",
            "4500/4500 - 15s - loss: 0.4316 - accuracy: 0.7948 - val_loss: 0.5114 - val_accuracy: 0.7556\n",
            "Epoch 34/50\n",
            "4500/4500 - 15s - loss: 0.4329 - accuracy: 0.7941 - val_loss: 0.5103 - val_accuracy: 0.7538\n",
            "Epoch 35/50\n",
            "4500/4500 - 15s - loss: 0.4303 - accuracy: 0.7950 - val_loss: 0.5062 - val_accuracy: 0.7573\n",
            "Epoch 36/50\n",
            "4500/4500 - 14s - loss: 0.4319 - accuracy: 0.7933 - val_loss: 0.5069 - val_accuracy: 0.7564\n",
            "Epoch 37/50\n",
            "4500/4500 - 15s - loss: 0.4307 - accuracy: 0.7948 - val_loss: 0.5080 - val_accuracy: 0.7549\n",
            "Epoch 38/50\n",
            "4500/4500 - 14s - loss: 0.4297 - accuracy: 0.7959 - val_loss: 0.5103 - val_accuracy: 0.7547\n",
            "Epoch 39/50\n",
            "4500/4500 - 15s - loss: 0.4306 - accuracy: 0.7945 - val_loss: 0.5066 - val_accuracy: 0.7558\n",
            "Epoch 40/50\n",
            "4500/4500 - 14s - loss: 0.4303 - accuracy: 0.7946 - val_loss: 0.5100 - val_accuracy: 0.7529\n",
            "Epoch 41/50\n",
            "4500/4500 - 14s - loss: 0.4302 - accuracy: 0.7947 - val_loss: 0.5105 - val_accuracy: 0.7518\n",
            "Epoch 42/50\n",
            "4500/4500 - 14s - loss: 0.4288 - accuracy: 0.7956 - val_loss: 0.5130 - val_accuracy: 0.7530\n",
            "Epoch 43/50\n",
            "4500/4500 - 14s - loss: 0.4279 - accuracy: 0.7970 - val_loss: 0.5074 - val_accuracy: 0.7539\n",
            "Epoch 44/50\n",
            "4500/4500 - 14s - loss: 0.4282 - accuracy: 0.7958 - val_loss: 0.5110 - val_accuracy: 0.7533\n",
            "Epoch 45/50\n",
            "4500/4500 - 14s - loss: 0.4305 - accuracy: 0.7949 - val_loss: 0.5117 - val_accuracy: 0.7537\n",
            "Epoch 46/50\n",
            "4500/4500 - 14s - loss: 0.4292 - accuracy: 0.7960 - val_loss: 0.5100 - val_accuracy: 0.7528\n",
            "Epoch 47/50\n",
            "4500/4500 - 14s - loss: 0.4272 - accuracy: 0.7972 - val_loss: 0.5114 - val_accuracy: 0.7516\n",
            "Epoch 48/50\n",
            "4500/4500 - 14s - loss: 0.4269 - accuracy: 0.7964 - val_loss: 0.5063 - val_accuracy: 0.7547\n",
            "Epoch 49/50\n",
            "4500/4500 - 14s - loss: 0.4268 - accuracy: 0.7970 - val_loss: 0.5101 - val_accuracy: 0.7513\n",
            "Epoch 50/50\n",
            "4500/4500 - 14s - loss: 0.4267 - accuracy: 0.7972 - val_loss: 0.5117 - val_accuracy: 0.7554\n",
            "Training Complete\n"
          ],
          "name": "stdout"
        }
      ]
    },
    {
      "cell_type": "code",
      "metadata": {
        "colab_type": "code",
        "id": "qxju4ItJKO8F",
        "colab": {
          "base_uri": "https://localhost:8080/",
          "height": 607
        },
        "outputId": "e1b5736d-f217-4bdc-d726-9257b4306ea0"
      },
      "source": [
        "import matplotlib.image  as mpimg\n",
        "import matplotlib.pyplot as plt\n",
        "\n",
        "#-----------------------------------------------------------\n",
        "# Retrieve a list of list results on training and test data\n",
        "# sets for each training epoch\n",
        "#-----------------------------------------------------------\n",
        "acc=history.history['accuracy']\n",
        "val_acc=history.history['val_accuracy']\n",
        "loss=history.history['loss']\n",
        "val_loss=history.history['val_loss']\n",
        "\n",
        "epochs=range(len(acc)) # Get number of epochs\n",
        "\n",
        "#------------------------------------------------\n",
        "# Plot training and validation accuracy per epoch\n",
        "#------------------------------------------------\n",
        "plt.plot(epochs, acc, 'r')\n",
        "plt.plot(epochs, val_acc, 'b')\n",
        "plt.title('Training and validation accuracy')\n",
        "plt.xlabel(\"Epochs\")\n",
        "plt.ylabel(\"Accuracy\")\n",
        "plt.legend([\"Accuracy\", \"Validation Accuracy\"])\n",
        "\n",
        "plt.figure()\n",
        "\n",
        "#------------------------------------------------\n",
        "# Plot training and validation loss per epoch\n",
        "#------------------------------------------------\n",
        "plt.plot(epochs, loss, 'r')\n",
        "plt.plot(epochs, val_loss, 'b')\n",
        "plt.title('Training and validation loss')\n",
        "plt.xlabel(\"Epochs\")\n",
        "plt.ylabel(\"Loss\")\n",
        "plt.legend([\"Loss\", \"Validation Loss\"])\n",
        "\n",
        "plt.figure()\n",
        "\n",
        "\n",
        "# Expected Output\n",
        "# A chart where the validation loss does not increase sharply!"
      ],
      "execution_count": 10,
      "outputs": [
        {
          "output_type": "execute_result",
          "data": {
            "text/plain": [
              "<Figure size 432x288 with 0 Axes>"
            ]
          },
          "metadata": {
            "tags": []
          },
          "execution_count": 10
        },
        {
          "output_type": "display_data",
          "data": {
            "image/png": "[encoded data removed]",
            "text/plain": [
              "<Figure size 432x288 with 1 Axes>"
            ]
          },
          "metadata": {
            "tags": [],
            "needs_background": "light"
          }
        },
        {
          "output_type": "display_data",
          "data": {
            "image/png": "[encoded data removed]",
            "text/plain": [
              "<Figure size 432x288 with 1 Axes>"
            ]
          },
          "metadata": {
            "tags": [],
            "needs_background": "light"
          }
        },
        {
          "output_type": "display_data",
          "data": {
            "text/plain": [
              "<Figure size 432x288 with 0 Axes>"
            ]
          },
          "metadata": {
            "tags": []
          }
        }
      ]
    }
  ]
}