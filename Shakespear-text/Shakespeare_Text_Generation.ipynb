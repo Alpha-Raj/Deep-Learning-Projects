{
  "nbformat": 4,
  "nbformat_minor": 0,
  "metadata": {
    "accelerator": "GPU",
    "colab": {
      "name": "NLP_Week4_Exercise_Shakespeare_Answer.ipynb",
      "provenance": [],
      "toc_visible": true
    },
    "kernelspec": {
      "display_name": "Python 3",
      "name": "python3"
    }
  },
  "cells": [
    {
      "cell_type": "code",
      "metadata": {
        "id": "zX4Kg8DUTKWO",
        "colab_type": "code",
        "colab": {}
      },
      "source": [
        "#@title Licensed under the Apache License, Version 2.0 (the \"License\");\n",
        "# you may not use this file except in compliance with the License.\n",
        "# You may obtain a copy of the License at\n",
        "#\n",
        "# https://www.apache.org/licenses/LICENSE-2.0\n",
        "#\n",
        "# Unless required by applicable law or agreed to in writing, software\n",
        "# distributed under the License is distributed on an \"AS IS\" BASIS,\n",
        "# WITHOUT WARRANTIES OR CONDITIONS OF ANY KIND, either express or implied.\n",
        "# See the License for the specific language governing permissions and\n",
        "# limitations under the License."
      ],
      "execution_count": 1,
      "outputs": []
    },
    {
      "cell_type": "code",
      "metadata": {
        "colab_type": "code",
        "id": "BOwsuGQQY9OL",
        "colab": {}
      },
      "source": [
        "from tensorflow.keras.preprocessing.sequence import pad_sequences\n",
        "from tensorflow.keras.layers import Embedding, LSTM, Dense, Dropout, Bidirectional\n",
        "from tensorflow.keras.preprocessing.text import Tokenizer\n",
        "from tensorflow.keras.models import Sequential\n",
        "from tensorflow.keras.optimizers import Adam\n",
        "from tensorflow.keras import regularizers\n",
        "import tensorflow.keras.utils as ku \n",
        "import numpy as np "
      ],
      "execution_count": 2,
      "outputs": []
    },
    {
      "cell_type": "code",
      "metadata": {
        "colab_type": "code",
        "id": "PRnDnCW-Z7qv",
        "colab": {
          "base_uri": "https://localhost:8080/",
          "height": 224
        },
        "outputId": "b32964ef-2187-4a66-a563-5748241a14cc"
      },
      "source": [
        "tokenizer = Tokenizer()\n",
        "!wget --no-check-certificate \\\n",
        "    https://storage.googleapis.com/laurencemoroney-blog.appspot.com/sonnets.txt \\\n",
        "    -O /tmp/sonnets.txt\n",
        "data = open('/tmp/sonnets.txt').read()\n",
        "\n",
        "corpus = data.lower().split(\"\\n\")\n",
        "\n",
        "\n",
        "tokenizer.fit_on_texts(corpus)\n",
        "total_words = len(tokenizer.word_index) + 1\n",
        "\n",
        "# create input sequences using list of tokens\n",
        "input_sequences = []\n",
        "for line in corpus:\n",
        "\ttoken_list = tokenizer.texts_to_sequences([line])[0]\n",
        "\tfor i in range(1, len(token_list)):\n",
        "\t\tn_gram_sequence = token_list[:i+1]\n",
        "\t\tinput_sequences.append(n_gram_sequence)\n",
        "\n",
        "\n",
        "# pad sequences \n",
        "max_sequence_len = max([len(x) for x in input_sequences])\n",
        "input_sequences = np.array(pad_sequences(input_sequences, maxlen=max_sequence_len, padding='pre'))\n",
        "\n",
        "# create predictors and label\n",
        "predictors, label = input_sequences[:,:-1],input_sequences[:,-1]\n",
        "\n",
        "label = ku.to_categorical(label, num_classes=total_words)"
      ],
      "execution_count": 3,
      "outputs": [
        {
          "output_type": "stream",
          "text": [
            "--2020-08-13 18:52:21--  https://storage.googleapis.com/laurencemoroney-blog.appspot.com/sonnets.txt\n",
            "Resolving storage.googleapis.com (storage.googleapis.com)... 108.177.125.128, 74.125.203.128, 64.233.189.128, ...\n",
            "Connecting to storage.googleapis.com (storage.googleapis.com)|108.177.125.128|:443... connected.\n",
            "HTTP request sent, awaiting response... 200 OK\n",
            "Length: 93578 (91K) [text/plain]\n",
            "Saving to: ‘/tmp/sonnets.txt’\n",
            "\n",
            "\r/tmp/sonnets.txt      0%[                    ]       0  --.-KB/s               \r/tmp/sonnets.txt    100%[===================>]  91.38K  --.-KB/s    in 0.001s  \n",
            "\n",
            "2020-08-13 18:52:21 (81.2 MB/s) - ‘/tmp/sonnets.txt’ saved [93578/93578]\n",
            "\n"
          ],
          "name": "stdout"
        }
      ]
    },
    {
      "cell_type": "code",
      "metadata": {
        "colab_type": "code",
        "id": "w9vH8Y59ajYL",
        "colab": {
          "base_uri": "https://localhost:8080/",
          "height": 374
        },
        "outputId": "e766c984-1e26-44df-8f18-4eff5ff115b5"
      },
      "source": [
        "model = Sequential()\n",
        "model.add(Embedding(total_words, 100, input_length=max_sequence_len-1))\n",
        "model.add(Bidirectional(LSTM(150, return_sequences = True)))\n",
        "model.add(Dropout(0.2))\n",
        "model.add(LSTM(100))\n",
        "model.add(Dense(total_words/2, activation='relu', kernel_regularizer=regularizers.l2(0.01)))\n",
        "model.add(Dense(total_words, activation='softmax'))\n",
        "model.compile(loss='categorical_crossentropy', optimizer='adam', metrics=['accuracy'])\n",
        "print(model.summary())\n"
      ],
      "execution_count": 4,
      "outputs": [
        {
          "output_type": "stream",
          "text": [
            "Model: \"sequential\"\n",
            "_________________________________________________________________\n",
            "Layer (type)                 Output Shape              Param #   \n",
            "=================================================================\n",
            "embedding (Embedding)        (None, 10, 100)           321100    \n",
            "_________________________________________________________________\n",
            "bidirectional (Bidirectional (None, 10, 300)           301200    \n",
            "_________________________________________________________________\n",
            "dropout (Dropout)            (None, 10, 300)           0         \n",
            "_________________________________________________________________\n",
            "lstm_1 (LSTM)                (None, 100)               160400    \n",
            "_________________________________________________________________\n",
            "dense (Dense)                (None, 1605)              162105    \n",
            "_________________________________________________________________\n",
            "dense_1 (Dense)              (None, 3211)              5156866   \n",
            "=================================================================\n",
            "Total params: 6,101,671\n",
            "Trainable params: 6,101,671\n",
            "Non-trainable params: 0\n",
            "_________________________________________________________________\n",
            "None\n"
          ],
          "name": "stdout"
        }
      ]
    },
    {
      "cell_type": "code",
      "metadata": {
        "colab_type": "code",
        "id": "AIg2f1HBxqof",
        "colab": {
          "base_uri": "https://localhost:8080/",
          "height": 1000
        },
        "outputId": "d5419cba-ae9c-4801-e4f6-e075f595cb55"
      },
      "source": [
        " history = model.fit(predictors, label, epochs=100, verbose=1)"
      ],
      "execution_count": 5,
      "outputs": [
        {
          "output_type": "stream",
          "text": [
            "Epoch 1/100\n",
            "484/484 [==============================] - 14s 28ms/step - loss: 6.9021 - accuracy: 0.0210\n",
            "Epoch 2/100\n",
            "484/484 [==============================] - 14s 28ms/step - loss: 6.5045 - accuracy: 0.0213\n",
            "Epoch 3/100\n",
            "484/484 [==============================] - 14s 28ms/step - loss: 6.3990 - accuracy: 0.0231\n",
            "Epoch 4/100\n",
            "484/484 [==============================] - 14s 28ms/step - loss: 6.2799 - accuracy: 0.0275\n",
            "Epoch 5/100\n",
            "484/484 [==============================] - 14s 28ms/step - loss: 6.1923 - accuracy: 0.0320\n",
            "Epoch 6/100\n",
            "484/484 [==============================] - 14s 28ms/step - loss: 6.1248 - accuracy: 0.0370\n",
            "Epoch 7/100\n",
            "484/484 [==============================] - 14s 28ms/step - loss: 6.0627 - accuracy: 0.0391\n",
            "Epoch 8/100\n",
            "484/484 [==============================] - 14s 28ms/step - loss: 6.0014 - accuracy: 0.0440\n",
            "Epoch 9/100\n",
            "484/484 [==============================] - 14s 28ms/step - loss: 5.9246 - accuracy: 0.0492\n",
            "Epoch 10/100\n",
            "484/484 [==============================] - 14s 28ms/step - loss: 5.8350 - accuracy: 0.0535\n",
            "Epoch 11/100\n",
            "484/484 [==============================] - 14s 28ms/step - loss: 5.7430 - accuracy: 0.0612\n",
            "Epoch 12/100\n",
            "484/484 [==============================] - 14s 28ms/step - loss: 5.6534 - accuracy: 0.0623\n",
            "Epoch 13/100\n",
            "484/484 [==============================] - 14s 28ms/step - loss: 5.5641 - accuracy: 0.0692\n",
            "Epoch 14/100\n",
            "484/484 [==============================] - 14s 28ms/step - loss: 5.4749 - accuracy: 0.0741\n",
            "Epoch 15/100\n",
            "484/484 [==============================] - 14s 28ms/step - loss: 5.3859 - accuracy: 0.0781\n",
            "Epoch 16/100\n",
            "484/484 [==============================] - 14s 28ms/step - loss: 5.2954 - accuracy: 0.0828\n",
            "Epoch 17/100\n",
            "484/484 [==============================] - 14s 28ms/step - loss: 5.1940 - accuracy: 0.0897\n",
            "Epoch 18/100\n",
            "484/484 [==============================] - 14s 28ms/step - loss: 5.1023 - accuracy: 0.0944\n",
            "Epoch 19/100\n",
            "484/484 [==============================] - 14s 28ms/step - loss: 5.0076 - accuracy: 0.0999\n",
            "Epoch 20/100\n",
            "484/484 [==============================] - 14s 28ms/step - loss: 4.9158 - accuracy: 0.1045\n",
            "Epoch 21/100\n",
            "484/484 [==============================] - 14s 28ms/step - loss: 4.8248 - accuracy: 0.1124\n",
            "Epoch 22/100\n",
            "484/484 [==============================] - 14s 29ms/step - loss: 4.7377 - accuracy: 0.1143\n",
            "Epoch 23/100\n",
            "484/484 [==============================] - 14s 28ms/step - loss: 4.6475 - accuracy: 0.1273\n",
            "Epoch 24/100\n",
            "484/484 [==============================] - 14s 28ms/step - loss: 4.5598 - accuracy: 0.1323\n",
            "Epoch 25/100\n",
            "484/484 [==============================] - 14s 28ms/step - loss: 4.4683 - accuracy: 0.1390\n",
            "Epoch 26/100\n",
            "484/484 [==============================] - 14s 28ms/step - loss: 4.3783 - accuracy: 0.1491\n",
            "Epoch 27/100\n",
            "484/484 [==============================] - 14s 28ms/step - loss: 4.2924 - accuracy: 0.1548\n",
            "Epoch 28/100\n",
            "484/484 [==============================] - 14s 28ms/step - loss: 4.2046 - accuracy: 0.1668\n",
            "Epoch 29/100\n",
            "484/484 [==============================] - 14s 28ms/step - loss: 4.1170 - accuracy: 0.1793\n",
            "Epoch 30/100\n",
            "484/484 [==============================] - 14s 28ms/step - loss: 4.0243 - accuracy: 0.1892\n",
            "Epoch 31/100\n",
            "484/484 [==============================] - 14s 28ms/step - loss: 3.9497 - accuracy: 0.2022\n",
            "Epoch 32/100\n",
            "484/484 [==============================] - 14s 28ms/step - loss: 3.8600 - accuracy: 0.2174\n",
            "Epoch 33/100\n",
            "484/484 [==============================] - 14s 28ms/step - loss: 3.7811 - accuracy: 0.2324\n",
            "Epoch 34/100\n",
            "484/484 [==============================] - 14s 28ms/step - loss: 3.6934 - accuracy: 0.2499\n",
            "Epoch 35/100\n",
            "484/484 [==============================] - 14s 28ms/step - loss: 3.6169 - accuracy: 0.2621\n",
            "Epoch 36/100\n",
            "484/484 [==============================] - 14s 28ms/step - loss: 3.5306 - accuracy: 0.2808\n",
            "Epoch 37/100\n",
            "484/484 [==============================] - 14s 28ms/step - loss: 3.4646 - accuracy: 0.2965\n",
            "Epoch 38/100\n",
            "484/484 [==============================] - 14s 28ms/step - loss: 3.3996 - accuracy: 0.3097\n",
            "Epoch 39/100\n",
            "484/484 [==============================] - 14s 28ms/step - loss: 3.3260 - accuracy: 0.3267\n",
            "Epoch 40/100\n",
            "484/484 [==============================] - 14s 28ms/step - loss: 3.2491 - accuracy: 0.3428\n",
            "Epoch 41/100\n",
            "484/484 [==============================] - 14s 28ms/step - loss: 3.1871 - accuracy: 0.3623\n",
            "Epoch 42/100\n",
            "484/484 [==============================] - 14s 28ms/step - loss: 3.1384 - accuracy: 0.3704\n",
            "Epoch 43/100\n",
            "484/484 [==============================] - 14s 28ms/step - loss: 3.0644 - accuracy: 0.3858\n",
            "Epoch 44/100\n",
            "484/484 [==============================] - 14s 29ms/step - loss: 3.0014 - accuracy: 0.4016\n",
            "Epoch 45/100\n",
            "484/484 [==============================] - 14s 29ms/step - loss: 2.9434 - accuracy: 0.4164\n",
            "Epoch 46/100\n",
            "484/484 [==============================] - 14s 28ms/step - loss: 2.8892 - accuracy: 0.4280\n",
            "Epoch 47/100\n",
            "484/484 [==============================] - 14s 28ms/step - loss: 2.8330 - accuracy: 0.4391\n",
            "Epoch 48/100\n",
            "484/484 [==============================] - 14s 28ms/step - loss: 2.7824 - accuracy: 0.4503\n",
            "Epoch 49/100\n",
            "484/484 [==============================] - 14s 28ms/step - loss: 2.7217 - accuracy: 0.4646\n",
            "Epoch 50/100\n",
            "484/484 [==============================] - 14s 28ms/step - loss: 2.6710 - accuracy: 0.4795\n",
            "Epoch 51/100\n",
            "484/484 [==============================] - 14s 28ms/step - loss: 2.6175 - accuracy: 0.4898\n",
            "Epoch 52/100\n",
            "484/484 [==============================] - 14s 28ms/step - loss: 2.5749 - accuracy: 0.4990\n",
            "Epoch 53/100\n",
            "484/484 [==============================] - 14s 28ms/step - loss: 2.5280 - accuracy: 0.5083\n",
            "Epoch 54/100\n",
            "484/484 [==============================] - 14s 28ms/step - loss: 2.4834 - accuracy: 0.5189\n",
            "Epoch 55/100\n",
            "484/484 [==============================] - 14s 28ms/step - loss: 2.4401 - accuracy: 0.5285\n",
            "Epoch 56/100\n",
            "484/484 [==============================] - 14s 28ms/step - loss: 2.3954 - accuracy: 0.5401\n",
            "Epoch 57/100\n",
            "484/484 [==============================] - 14s 28ms/step - loss: 2.3492 - accuracy: 0.5482\n",
            "Epoch 58/100\n",
            "484/484 [==============================] - 14s 28ms/step - loss: 2.3161 - accuracy: 0.5592\n",
            "Epoch 59/100\n",
            "484/484 [==============================] - 14s 28ms/step - loss: 2.2671 - accuracy: 0.5689\n",
            "Epoch 60/100\n",
            "484/484 [==============================] - 14s 28ms/step - loss: 2.2240 - accuracy: 0.5837\n",
            "Epoch 61/100\n",
            "484/484 [==============================] - 14s 28ms/step - loss: 2.2014 - accuracy: 0.5823\n",
            "Epoch 62/100\n",
            "484/484 [==============================] - 14s 28ms/step - loss: 2.1635 - accuracy: 0.5918\n",
            "Epoch 63/100\n",
            "484/484 [==============================] - 14s 28ms/step - loss: 2.1321 - accuracy: 0.5954\n",
            "Epoch 64/100\n",
            "484/484 [==============================] - 14s 28ms/step - loss: 2.0889 - accuracy: 0.6128\n",
            "Epoch 65/100\n",
            "484/484 [==============================] - 14s 28ms/step - loss: 2.0531 - accuracy: 0.6193\n",
            "Epoch 66/100\n",
            "484/484 [==============================] - 14s 29ms/step - loss: 2.0224 - accuracy: 0.6264\n",
            "Epoch 67/100\n",
            "484/484 [==============================] - 14s 29ms/step - loss: 2.0096 - accuracy: 0.6273\n",
            "Epoch 68/100\n",
            "484/484 [==============================] - 14s 28ms/step - loss: 1.9605 - accuracy: 0.6391\n",
            "Epoch 69/100\n",
            "484/484 [==============================] - 14s 28ms/step - loss: 1.9426 - accuracy: 0.6420\n",
            "Epoch 70/100\n",
            "484/484 [==============================] - 14s 28ms/step - loss: 1.9020 - accuracy: 0.6497\n",
            "Epoch 71/100\n",
            "484/484 [==============================] - 14s 28ms/step - loss: 1.8691 - accuracy: 0.6591\n",
            "Epoch 72/100\n",
            "484/484 [==============================] - 14s 28ms/step - loss: 1.8360 - accuracy: 0.6648\n",
            "Epoch 73/100\n",
            "484/484 [==============================] - 14s 28ms/step - loss: 1.8197 - accuracy: 0.6726\n",
            "Epoch 74/100\n",
            "484/484 [==============================] - 14s 28ms/step - loss: 1.7866 - accuracy: 0.6782\n",
            "Epoch 75/100\n",
            "484/484 [==============================] - 14s 28ms/step - loss: 1.7700 - accuracy: 0.6808\n",
            "Epoch 76/100\n",
            "484/484 [==============================] - 14s 28ms/step - loss: 1.7621 - accuracy: 0.6817\n",
            "Epoch 77/100\n",
            "484/484 [==============================] - 14s 28ms/step - loss: 1.7252 - accuracy: 0.6899\n",
            "Epoch 78/100\n",
            "484/484 [==============================] - 14s 28ms/step - loss: 1.7027 - accuracy: 0.6936\n",
            "Epoch 79/100\n",
            "484/484 [==============================] - 14s 28ms/step - loss: 1.6645 - accuracy: 0.7051\n",
            "Epoch 80/100\n",
            "484/484 [==============================] - 14s 28ms/step - loss: 1.6593 - accuracy: 0.7029\n",
            "Epoch 81/100\n",
            "484/484 [==============================] - 14s 28ms/step - loss: 1.6261 - accuracy: 0.7158\n",
            "Epoch 82/100\n",
            "484/484 [==============================] - 14s 28ms/step - loss: 1.6062 - accuracy: 0.7194\n",
            "Epoch 83/100\n",
            "484/484 [==============================] - 14s 28ms/step - loss: 1.5884 - accuracy: 0.7193\n",
            "Epoch 84/100\n",
            "484/484 [==============================] - 14s 28ms/step - loss: 1.5699 - accuracy: 0.7237\n",
            "Epoch 85/100\n",
            "484/484 [==============================] - 14s 28ms/step - loss: 1.5501 - accuracy: 0.7272\n",
            "Epoch 86/100\n",
            "484/484 [==============================] - 14s 28ms/step - loss: 1.5404 - accuracy: 0.7313\n",
            "Epoch 87/100\n",
            "484/484 [==============================] - 14s 28ms/step - loss: 1.5151 - accuracy: 0.7353\n",
            "Epoch 88/100\n",
            "484/484 [==============================] - 14s 28ms/step - loss: 1.5003 - accuracy: 0.7380\n",
            "Epoch 89/100\n",
            "484/484 [==============================] - 14s 29ms/step - loss: 1.4790 - accuracy: 0.7399\n",
            "Epoch 90/100\n",
            "484/484 [==============================] - 14s 29ms/step - loss: 1.4692 - accuracy: 0.7417\n",
            "Epoch 91/100\n",
            "484/484 [==============================] - 14s 28ms/step - loss: 1.4468 - accuracy: 0.7477\n",
            "Epoch 92/100\n",
            "484/484 [==============================] - 14s 28ms/step - loss: 1.4156 - accuracy: 0.7555\n",
            "Epoch 93/100\n",
            "484/484 [==============================] - 14s 28ms/step - loss: 1.4062 - accuracy: 0.7564\n",
            "Epoch 94/100\n",
            "484/484 [==============================] - 14s 28ms/step - loss: 1.4077 - accuracy: 0.7551\n",
            "Epoch 95/100\n",
            "484/484 [==============================] - 14s 28ms/step - loss: 1.3874 - accuracy: 0.7573\n",
            "Epoch 96/100\n",
            "484/484 [==============================] - 14s 28ms/step - loss: 1.3693 - accuracy: 0.7630\n",
            "Epoch 97/100\n",
            "484/484 [==============================] - 14s 28ms/step - loss: 1.3608 - accuracy: 0.7626\n",
            "Epoch 98/100\n",
            "484/484 [==============================] - 14s 28ms/step - loss: 1.3417 - accuracy: 0.7684\n",
            "Epoch 99/100\n",
            "484/484 [==============================] - 14s 28ms/step - loss: 1.3350 - accuracy: 0.7670\n",
            "Epoch 100/100\n",
            "484/484 [==============================] - 14s 28ms/step - loss: 1.3385 - accuracy: 0.7642\n"
          ],
          "name": "stdout"
        }
      ]
    },
    {
      "cell_type": "code",
      "metadata": {
        "colab_type": "code",
        "id": "1fXTEO3GJ282",
        "colab": {
          "base_uri": "https://localhost:8080/",
          "height": 545
        },
        "outputId": "d923e9a9-c4b8-4ffa-bee7-08501fcfedbb"
      },
      "source": [
        "import matplotlib.pyplot as plt\n",
        "acc = history.history['accuracy']\n",
        "loss = history.history['loss']\n",
        "\n",
        "epochs = range(len(acc))\n",
        "\n",
        "plt.plot(epochs, acc, 'b', label='Training accuracy')\n",
        "plt.title('Training accuracy')\n",
        "\n",
        "plt.figure()\n",
        "\n",
        "plt.plot(epochs, loss, 'b', label='Training Loss')\n",
        "plt.title('Training loss')\n",
        "plt.legend()\n",
        "\n",
        "plt.show()"
      ],
      "execution_count": 6,
      "outputs": [
        {
          "output_type": "display_data",
          "data": {
            "image/png": "[encoded data removed]",
            "text/plain": [
              "<Figure size 432x288 with 1 Axes>"
            ]
          },
          "metadata": {
            "tags": [],
            "needs_background": "light"
          }
        },
        {
          "output_type": "display_data",
          "data": {
            "image/png": "[encoded data removed]",
            "text/plain": [
              "<Figure size 432x288 with 1 Axes>"
            ]
          },
          "metadata": {
            "tags": [],
            "needs_background": "light"
          }
        }
      ]
    },
    {
      "cell_type": "code",
      "metadata": {
        "colab_type": "code",
        "id": "6Vc6PHgxa6Hm",
        "colab": {
          "base_uri": "https://localhost:8080/",
          "height": 105
        },
        "outputId": "0e8c7111-f63d-4022-a6ac-fe6fd35b773f"
      },
      "source": [
        "seed_text = \"Help me Obi Wan Kenobi, you're my only hope\"\n",
        "next_words = 100\n",
        "  \n",
        "for _ in range(next_words):\n",
        "\ttoken_list = tokenizer.texts_to_sequences([seed_text])[0]\n",
        "\ttoken_list = pad_sequences([token_list], maxlen=max_sequence_len-1, padding='pre')\n",
        "\tpredicted = model.predict_classes(token_list, verbose=0)\n",
        "\toutput_word = \"\"\n",
        "\tfor word, index in tokenizer.word_index.items():\n",
        "\t\tif index == predicted:\n",
        "\t\t\toutput_word = word\n",
        "\t\t\tbreak\n",
        "\tseed_text += \" \" + output_word\n",
        "print(seed_text)"
      ],
      "execution_count": 7,
      "outputs": [
        {
          "output_type": "stream",
          "text": [
            "WARNING:tensorflow:From <ipython-input-7-622d307fa19a>:7: Sequential.predict_classes (from tensorflow.python.keras.engine.sequential) is deprecated and will be removed after 2021-01-01.\n",
            "Instructions for updating:\n",
            "Please use instead:* `np.argmax(model.predict(x), axis=-1)`,   if your model does multi-class classification   (e.g. if it uses a `softmax` last-layer activation).* `(model.predict(x) > 0.5).astype(\"int32\")`,   if your model does binary classification   (e.g. if it uses a `sigmoid` last-layer activation).\n",
            "Help me Obi Wan Kenobi, you're my only hope to steal me have give life flowers art respect disdain seen ill hate sang flowers breast might time rare hate happy day thy sweet breast 'tis thence eyes be near be green thy praise ' now give kings youth is not strange words prove men ' ' so short things short worse happier blood ' o'er away be proved me well minds to me all well so rare so nearly say told a time alone we prove thee thence eyes took so long prove hate flowers flowers bring do hate cold might due should time will keep men's done bright\n"
          ],
          "name": "stdout"
        }
      ]
    }
  ]
}